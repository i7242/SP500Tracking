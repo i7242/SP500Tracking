{
 "cells": [
  {
   "cell_type": "markdown",
   "metadata": {},
   "source": [
    "# Track SP500 & UPRO\n",
    "\n",
    "- This is based on the metric provided in:\n",
    "  - https://plaxy314.blogspot.com\n",
    "  - https://www.bogleheads.org/forum/viewtopic.php?t=319283&start=50\n",
    "\n",
    "This notebook aimes to provide the metric data mentioned in the Bogleheads post. Will use it to guide my UPRO buy & sell decisions."
   ]
  },
  {
   "cell_type": "code",
   "execution_count": 8,
   "metadata": {},
   "outputs": [],
   "source": [
    "using HTTP, CSV, DataFrames\n",
    "using Dates, Plots, Polynomials\n",
    "plotlyjs()"
   ]
  },
  {
   "cell_type": "markdown",
   "metadata": {},
   "source": [
    "## Step 1: Get SPY historical data to represent S&P500 data"
   ]
  },
  {
   "cell_type": "code",
   "execution_count": null,
   "metadata": {},
   "outputs": [],
   "source": [
    "api_key = \"Z5K9YLTH7W82B0JQ\"\n",
    "query_string = \"https://www.alphavantage.co/query?function=TIME_SERIES_DAILY&symbol=SPY&outputsize=full&datatype=csv&apikey=$api_key\"\n",
    "data = HTTP.get(query_string).body |>\n",
    "            String |>\n",
    "            IOBuffer |>\n",
    "            CSV.File |>\n",
    "            DataFrame;"
   ]
  },
  {
   "cell_type": "markdown",
   "metadata": {},
   "source": [
    "## Step 2: Fit the line and get the metric"
   ]
  },
  {
   "cell_type": "markdown",
   "metadata": {},
   "source": [
    "I will simply use the daily close price. Followed the calculation posted in the Bogleheads:\n",
    "\n",
    "- Let $P_t$ be the market price\n",
    "- then take log of it: $p_t = log(P_t)$\n",
    "- fit the log price by a stright line, e.g. in form of $y=a \\times x + b$\n",
    "  - this is considered as long term S&P500 average return\n",
    "- adjust the log price by: $p^{adj}_t = p_t - y_t$\n",
    "- assume S&P500 has yearly return of $7.5\\%$, then $p^{year_adj}_t = p^{adj}_t / 0.075$\n",
    "  - this transforms the price ahead/behind of long term average into a measure in years\n",
    "\n",
    "Due to SPY data only starts from 1999, the S&P500 base line value has a bias compared to the post in Boglehead, but the trends are similar. But this should not matter given the plan is to holding the ETF for long term."
   ]
  },
  {
   "cell_type": "code",
   "execution_count": null,
   "metadata": {},
   "outputs": [],
   "source": [
    "data.unix_timestamp = data.timestamp .|> DateTime .|> datetime2unix\n",
    "data.log_close= log.(data.close)\n",
    "data_fit = fit(data.unix_timestamp, data.log_close, 1)\n",
    "data.adjusted_log_close = data.log_close .- data_fit.(data.unix_timestamp)\n",
    "data.year_adjusted_log_close = data.adjusted_log_close ./ 0.075;"
   ]
  },
  {
   "cell_type": "code",
   "execution_count": null,
   "metadata": {},
   "outputs": [],
   "source": [
    "latest_plot = plot(data.timestamp, data.year_adjusted_log_close, label=false, size=(1600,800))\n",
    "\n",
    "# Add special events to the plot\n",
    "event1_date = Date(\"2009-05-01\", \"yyyy-mm-dd\")\n",
    "event1_name = \"2009\\nFinancialCrisis\"\n",
    "vline!([event1_date], color=:green, linestyle=:dash, label=false)\n",
    "annotate!(event1_date, 8, text(event1_name))\n",
    "\n",
    "event2_date = Date(\"2020-02-01\", \"yyyy-mm-dd\")\n",
    "event2_name = \"COVID-19\"\n",
    "vline!([event2_date], color=:green, linestyle=:dash, label=false)\n",
    "annotate!(event2_date, 8, text(event2_name))\n",
    "\n",
    "event3_date = Date(\"2022-02-21\", \"yyyy-mm-dd\")\n",
    "event3_name = \"R-U-War\"\n",
    "vline!([event3_date], color=:green, linestyle=:dash, label=false)\n",
    "annotate!(event3_date, 7, text(event3_name))\n",
    "\n",
    "# Add lines represent how many years the price is ahead or behind\n",
    "date_annotate = Date(\"2000-01-01\", \"yyyy-mm-dd\")\n",
    "hline!([0], label=false, color=:red, linestyle=:dash)\n",
    "annotate!(date_annotate, 0, text(\"S&P500 Base Line\"))\n",
    "hline!([2], label=false, color=:red, linestyle=:dash)\n",
    "annotate!(date_annotate, 2, text(\"2 years ahead\"))\n",
    "hline!([-2], label=false, color=:red, linestyle=:dash)\n",
    "annotate!(date_annotate, -2, text(\"2 years behind\"))\n",
    "\n",
    "# Add current price position with rounded year value\n",
    "scatter!([data.timestamp[1]], [data.year_adjusted_log_close[1]], label=false, color=:red, markershape=:circle)\n",
    "annotate!(data.timestamp[1], data.year_adjusted_log_close[1]+0.5, text(\"$(round(data.year_adjusted_log_close[1], digits=2))\"))\n",
    "\n",
    "# Save plot to file before display\n",
    "file_name = \"results/\"*Dates.format(now(), \"yyyy-mm-dd\")*\".png\"\n",
    "isfile(file_name) && rm(file_name)\n",
    "savefig(latest_plot, file_name);\n",
    "\n",
    "display(latest_plot)"
   ]
  }
 ],
 "metadata": {
  "kernelspec": {
   "display_name": "Julia 1.10.0",
   "language": "julia",
   "name": "julia-1.10"
  },
  "language_info": {
   "file_extension": ".jl",
   "mimetype": "application/julia",
   "name": "julia",
   "version": "1.10.0"
  }
 },
 "nbformat": 4,
 "nbformat_minor": 2
}
